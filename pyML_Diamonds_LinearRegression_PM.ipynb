{
 "cells": [
  {
   "cell_type": "markdown",
   "id": "626c0ad6",
   "metadata": {},
   "source": [
    "## Case Study: Diamond price prediction"
   ]
  },
  {
   "cell_type": "markdown",
   "id": "c939548e",
   "metadata": {},
   "source": [
    "The following notebook performs EDA on the data about diamonds in an attempt to understand the organization of the data as well as the qualitative relations between the anatomical parameters of a diamond and its price."
   ]
  },
  {
   "cell_type": "markdown",
   "id": "e5514a65",
   "metadata": {},
   "source": [
    "Importing requred libraries:"
   ]
  },
  {
   "cell_type": "code",
   "execution_count": 1,
   "id": "ded36a84",
   "metadata": {},
   "outputs": [],
   "source": [
    "import pandas as pd\n",
    "import matplotlib.pyplot as plt\n",
    "import seaborn as sns\n",
    "import numpy as np\n",
    "import math"
   ]
  },
  {
   "cell_type": "markdown",
   "id": "0d696902",
   "metadata": {},
   "source": [
    "Reading the dataset from a csv file to a pandas dataframe:"
   ]
  },
  {
   "cell_type": "code",
   "execution_count": 2,
   "id": "c6f2d845",
   "metadata": {},
   "outputs": [],
   "source": [
    "df = pd.read_csv('diamonds.csv')"
   ]
  },
  {
   "cell_type": "markdown",
   "id": "07ca7581",
   "metadata": {},
   "source": [
    "Reading the basic information of the dataframe:"
   ]
  },
  {
   "cell_type": "code",
   "execution_count": 3,
   "id": "8d9056dc",
   "metadata": {},
   "outputs": [
    {
     "name": "stdout",
     "output_type": "stream",
     "text": [
      "<class 'pandas.core.frame.DataFrame'>\n",
      "RangeIndex: 53940 entries, 0 to 53939\n",
      "Data columns (total 11 columns):\n",
      " #   Column      Non-Null Count  Dtype  \n",
      "---  ------      --------------  -----  \n",
      " 0   Unnamed: 0  53940 non-null  int64  \n",
      " 1   carat       53940 non-null  float64\n",
      " 2   cut         53940 non-null  object \n",
      " 3   color       53940 non-null  object \n",
      " 4   clarity     53940 non-null  object \n",
      " 5   depth       53940 non-null  float64\n",
      " 6   table       53940 non-null  float64\n",
      " 7   price       53940 non-null  int64  \n",
      " 8   x           53940 non-null  float64\n",
      " 9   y           53940 non-null  float64\n",
      " 10  z           53940 non-null  float64\n",
      "dtypes: float64(6), int64(2), object(3)\n",
      "memory usage: 4.5+ MB\n"
     ]
    }
   ],
   "source": [
    "df.info()"
   ]
  },
  {
   "cell_type": "markdown",
   "id": "1fc2d2f1",
   "metadata": {},
   "source": [
    "Displaying the dataframe:"
   ]
  },
  {
   "cell_type": "code",
   "execution_count": 4,
   "id": "7a6e0d92",
   "metadata": {},
   "outputs": [
    {
     "data": {
      "text/html": [
       "<div>\n",
       "<style scoped>\n",
       "    .dataframe tbody tr th:only-of-type {\n",
       "        vertical-align: middle;\n",
       "    }\n",
       "\n",
       "    .dataframe tbody tr th {\n",
       "        vertical-align: top;\n",
       "    }\n",
       "\n",
       "    .dataframe thead th {\n",
       "        text-align: right;\n",
       "    }\n",
       "</style>\n",
       "<table border=\"1\" class=\"dataframe\">\n",
       "  <thead>\n",
       "    <tr style=\"text-align: right;\">\n",
       "      <th></th>\n",
       "      <th>Unnamed: 0</th>\n",
       "      <th>carat</th>\n",
       "      <th>cut</th>\n",
       "      <th>color</th>\n",
       "      <th>clarity</th>\n",
       "      <th>depth</th>\n",
       "      <th>table</th>\n",
       "      <th>price</th>\n",
       "      <th>x</th>\n",
       "      <th>y</th>\n",
       "      <th>z</th>\n",
       "    </tr>\n",
       "  </thead>\n",
       "  <tbody>\n",
       "    <tr>\n",
       "      <th>0</th>\n",
       "      <td>1</td>\n",
       "      <td>0.23</td>\n",
       "      <td>Ideal</td>\n",
       "      <td>E</td>\n",
       "      <td>SI2</td>\n",
       "      <td>61.5</td>\n",
       "      <td>55.0</td>\n",
       "      <td>326</td>\n",
       "      <td>3.95</td>\n",
       "      <td>3.98</td>\n",
       "      <td>2.43</td>\n",
       "    </tr>\n",
       "    <tr>\n",
       "      <th>1</th>\n",
       "      <td>2</td>\n",
       "      <td>0.21</td>\n",
       "      <td>Premium</td>\n",
       "      <td>E</td>\n",
       "      <td>SI1</td>\n",
       "      <td>59.8</td>\n",
       "      <td>61.0</td>\n",
       "      <td>326</td>\n",
       "      <td>3.89</td>\n",
       "      <td>3.84</td>\n",
       "      <td>2.31</td>\n",
       "    </tr>\n",
       "    <tr>\n",
       "      <th>2</th>\n",
       "      <td>3</td>\n",
       "      <td>0.23</td>\n",
       "      <td>Good</td>\n",
       "      <td>E</td>\n",
       "      <td>VS1</td>\n",
       "      <td>56.9</td>\n",
       "      <td>65.0</td>\n",
       "      <td>327</td>\n",
       "      <td>4.05</td>\n",
       "      <td>4.07</td>\n",
       "      <td>2.31</td>\n",
       "    </tr>\n",
       "    <tr>\n",
       "      <th>3</th>\n",
       "      <td>4</td>\n",
       "      <td>0.29</td>\n",
       "      <td>Premium</td>\n",
       "      <td>I</td>\n",
       "      <td>VS2</td>\n",
       "      <td>62.4</td>\n",
       "      <td>58.0</td>\n",
       "      <td>334</td>\n",
       "      <td>4.20</td>\n",
       "      <td>4.23</td>\n",
       "      <td>2.63</td>\n",
       "    </tr>\n",
       "    <tr>\n",
       "      <th>4</th>\n",
       "      <td>5</td>\n",
       "      <td>0.31</td>\n",
       "      <td>Good</td>\n",
       "      <td>J</td>\n",
       "      <td>SI2</td>\n",
       "      <td>63.3</td>\n",
       "      <td>58.0</td>\n",
       "      <td>335</td>\n",
       "      <td>4.34</td>\n",
       "      <td>4.35</td>\n",
       "      <td>2.75</td>\n",
       "    </tr>\n",
       "    <tr>\n",
       "      <th>...</th>\n",
       "      <td>...</td>\n",
       "      <td>...</td>\n",
       "      <td>...</td>\n",
       "      <td>...</td>\n",
       "      <td>...</td>\n",
       "      <td>...</td>\n",
       "      <td>...</td>\n",
       "      <td>...</td>\n",
       "      <td>...</td>\n",
       "      <td>...</td>\n",
       "      <td>...</td>\n",
       "    </tr>\n",
       "    <tr>\n",
       "      <th>53935</th>\n",
       "      <td>53936</td>\n",
       "      <td>0.72</td>\n",
       "      <td>Ideal</td>\n",
       "      <td>D</td>\n",
       "      <td>SI1</td>\n",
       "      <td>60.8</td>\n",
       "      <td>57.0</td>\n",
       "      <td>2757</td>\n",
       "      <td>5.75</td>\n",
       "      <td>5.76</td>\n",
       "      <td>3.50</td>\n",
       "    </tr>\n",
       "    <tr>\n",
       "      <th>53936</th>\n",
       "      <td>53937</td>\n",
       "      <td>0.72</td>\n",
       "      <td>Good</td>\n",
       "      <td>D</td>\n",
       "      <td>SI1</td>\n",
       "      <td>63.1</td>\n",
       "      <td>55.0</td>\n",
       "      <td>2757</td>\n",
       "      <td>5.69</td>\n",
       "      <td>5.75</td>\n",
       "      <td>3.61</td>\n",
       "    </tr>\n",
       "    <tr>\n",
       "      <th>53937</th>\n",
       "      <td>53938</td>\n",
       "      <td>0.70</td>\n",
       "      <td>Very Good</td>\n",
       "      <td>D</td>\n",
       "      <td>SI1</td>\n",
       "      <td>62.8</td>\n",
       "      <td>60.0</td>\n",
       "      <td>2757</td>\n",
       "      <td>5.66</td>\n",
       "      <td>5.68</td>\n",
       "      <td>3.56</td>\n",
       "    </tr>\n",
       "    <tr>\n",
       "      <th>53938</th>\n",
       "      <td>53939</td>\n",
       "      <td>0.86</td>\n",
       "      <td>Premium</td>\n",
       "      <td>H</td>\n",
       "      <td>SI2</td>\n",
       "      <td>61.0</td>\n",
       "      <td>58.0</td>\n",
       "      <td>2757</td>\n",
       "      <td>6.15</td>\n",
       "      <td>6.12</td>\n",
       "      <td>3.74</td>\n",
       "    </tr>\n",
       "    <tr>\n",
       "      <th>53939</th>\n",
       "      <td>53940</td>\n",
       "      <td>0.75</td>\n",
       "      <td>Ideal</td>\n",
       "      <td>D</td>\n",
       "      <td>SI2</td>\n",
       "      <td>62.2</td>\n",
       "      <td>55.0</td>\n",
       "      <td>2757</td>\n",
       "      <td>5.83</td>\n",
       "      <td>5.87</td>\n",
       "      <td>3.64</td>\n",
       "    </tr>\n",
       "  </tbody>\n",
       "</table>\n",
       "<p>53940 rows × 11 columns</p>\n",
       "</div>"
      ],
      "text/plain": [
       "       Unnamed: 0  carat        cut color clarity  depth  table  price     x  \\\n",
       "0               1   0.23      Ideal     E     SI2   61.5   55.0    326  3.95   \n",
       "1               2   0.21    Premium     E     SI1   59.8   61.0    326  3.89   \n",
       "2               3   0.23       Good     E     VS1   56.9   65.0    327  4.05   \n",
       "3               4   0.29    Premium     I     VS2   62.4   58.0    334  4.20   \n",
       "4               5   0.31       Good     J     SI2   63.3   58.0    335  4.34   \n",
       "...           ...    ...        ...   ...     ...    ...    ...    ...   ...   \n",
       "53935       53936   0.72      Ideal     D     SI1   60.8   57.0   2757  5.75   \n",
       "53936       53937   0.72       Good     D     SI1   63.1   55.0   2757  5.69   \n",
       "53937       53938   0.70  Very Good     D     SI1   62.8   60.0   2757  5.66   \n",
       "53938       53939   0.86    Premium     H     SI2   61.0   58.0   2757  6.15   \n",
       "53939       53940   0.75      Ideal     D     SI2   62.2   55.0   2757  5.83   \n",
       "\n",
       "          y     z  \n",
       "0      3.98  2.43  \n",
       "1      3.84  2.31  \n",
       "2      4.07  2.31  \n",
       "3      4.23  2.63  \n",
       "4      4.35  2.75  \n",
       "...     ...   ...  \n",
       "53935  5.76  3.50  \n",
       "53936  5.75  3.61  \n",
       "53937  5.68  3.56  \n",
       "53938  6.12  3.74  \n",
       "53939  5.87  3.64  \n",
       "\n",
       "[53940 rows x 11 columns]"
      ]
     },
     "execution_count": 4,
     "metadata": {},
     "output_type": "execute_result"
    }
   ],
   "source": [
    "df"
   ]
  },
  {
   "cell_type": "markdown",
   "id": "7aa9e916",
   "metadata": {},
   "source": [
    "The dataframe looks quite organized and neat for the most part. There is, however, one unnecessary column, the one named 'Unnamed: 0'. This column can be deleted."
   ]
  },
  {
   "cell_type": "code",
   "execution_count": 5,
   "id": "7a1ea081",
   "metadata": {},
   "outputs": [],
   "source": [
    "df.drop('Unnamed: 0', axis = 1, inplace = True)"
   ]
  },
  {
   "cell_type": "markdown",
   "id": "69260df5",
   "metadata": {},
   "source": [
    "The basic descriptive statistics of the dataframe can now be checked."
   ]
  },
  {
   "cell_type": "code",
   "execution_count": 6,
   "id": "c9945b69",
   "metadata": {},
   "outputs": [
    {
     "data": {
      "text/html": [
       "<div>\n",
       "<style scoped>\n",
       "    .dataframe tbody tr th:only-of-type {\n",
       "        vertical-align: middle;\n",
       "    }\n",
       "\n",
       "    .dataframe tbody tr th {\n",
       "        vertical-align: top;\n",
       "    }\n",
       "\n",
       "    .dataframe thead th {\n",
       "        text-align: right;\n",
       "    }\n",
       "</style>\n",
       "<table border=\"1\" class=\"dataframe\">\n",
       "  <thead>\n",
       "    <tr style=\"text-align: right;\">\n",
       "      <th></th>\n",
       "      <th>carat</th>\n",
       "      <th>depth</th>\n",
       "      <th>table</th>\n",
       "      <th>price</th>\n",
       "      <th>x</th>\n",
       "      <th>y</th>\n",
       "      <th>z</th>\n",
       "    </tr>\n",
       "  </thead>\n",
       "  <tbody>\n",
       "    <tr>\n",
       "      <th>count</th>\n",
       "      <td>53940.000000</td>\n",
       "      <td>53940.000000</td>\n",
       "      <td>53940.000000</td>\n",
       "      <td>53940.000000</td>\n",
       "      <td>53940.000000</td>\n",
       "      <td>53940.000000</td>\n",
       "      <td>53940.000000</td>\n",
       "    </tr>\n",
       "    <tr>\n",
       "      <th>mean</th>\n",
       "      <td>0.797940</td>\n",
       "      <td>61.749405</td>\n",
       "      <td>57.457184</td>\n",
       "      <td>3932.799722</td>\n",
       "      <td>5.731157</td>\n",
       "      <td>5.734526</td>\n",
       "      <td>3.538734</td>\n",
       "    </tr>\n",
       "    <tr>\n",
       "      <th>std</th>\n",
       "      <td>0.474011</td>\n",
       "      <td>1.432621</td>\n",
       "      <td>2.234491</td>\n",
       "      <td>3989.439738</td>\n",
       "      <td>1.121761</td>\n",
       "      <td>1.142135</td>\n",
       "      <td>0.705699</td>\n",
       "    </tr>\n",
       "    <tr>\n",
       "      <th>min</th>\n",
       "      <td>0.200000</td>\n",
       "      <td>43.000000</td>\n",
       "      <td>43.000000</td>\n",
       "      <td>326.000000</td>\n",
       "      <td>0.000000</td>\n",
       "      <td>0.000000</td>\n",
       "      <td>0.000000</td>\n",
       "    </tr>\n",
       "    <tr>\n",
       "      <th>25%</th>\n",
       "      <td>0.400000</td>\n",
       "      <td>61.000000</td>\n",
       "      <td>56.000000</td>\n",
       "      <td>950.000000</td>\n",
       "      <td>4.710000</td>\n",
       "      <td>4.720000</td>\n",
       "      <td>2.910000</td>\n",
       "    </tr>\n",
       "    <tr>\n",
       "      <th>50%</th>\n",
       "      <td>0.700000</td>\n",
       "      <td>61.800000</td>\n",
       "      <td>57.000000</td>\n",
       "      <td>2401.000000</td>\n",
       "      <td>5.700000</td>\n",
       "      <td>5.710000</td>\n",
       "      <td>3.530000</td>\n",
       "    </tr>\n",
       "    <tr>\n",
       "      <th>75%</th>\n",
       "      <td>1.040000</td>\n",
       "      <td>62.500000</td>\n",
       "      <td>59.000000</td>\n",
       "      <td>5324.250000</td>\n",
       "      <td>6.540000</td>\n",
       "      <td>6.540000</td>\n",
       "      <td>4.040000</td>\n",
       "    </tr>\n",
       "    <tr>\n",
       "      <th>max</th>\n",
       "      <td>5.010000</td>\n",
       "      <td>79.000000</td>\n",
       "      <td>95.000000</td>\n",
       "      <td>18823.000000</td>\n",
       "      <td>10.740000</td>\n",
       "      <td>58.900000</td>\n",
       "      <td>31.800000</td>\n",
       "    </tr>\n",
       "  </tbody>\n",
       "</table>\n",
       "</div>"
      ],
      "text/plain": [
       "              carat         depth         table         price             x  \\\n",
       "count  53940.000000  53940.000000  53940.000000  53940.000000  53940.000000   \n",
       "mean       0.797940     61.749405     57.457184   3932.799722      5.731157   \n",
       "std        0.474011      1.432621      2.234491   3989.439738      1.121761   \n",
       "min        0.200000     43.000000     43.000000    326.000000      0.000000   \n",
       "25%        0.400000     61.000000     56.000000    950.000000      4.710000   \n",
       "50%        0.700000     61.800000     57.000000   2401.000000      5.700000   \n",
       "75%        1.040000     62.500000     59.000000   5324.250000      6.540000   \n",
       "max        5.010000     79.000000     95.000000  18823.000000     10.740000   \n",
       "\n",
       "                  y             z  \n",
       "count  53940.000000  53940.000000  \n",
       "mean       5.734526      3.538734  \n",
       "std        1.142135      0.705699  \n",
       "min        0.000000      0.000000  \n",
       "25%        4.720000      2.910000  \n",
       "50%        5.710000      3.530000  \n",
       "75%        6.540000      4.040000  \n",
       "max       58.900000     31.800000  "
      ]
     },
     "execution_count": 6,
     "metadata": {},
     "output_type": "execute_result"
    }
   ],
   "source": [
    "df.describe()"
   ]
  },
  {
   "cell_type": "code",
   "execution_count": 7,
   "id": "eda2a722",
   "metadata": {},
   "outputs": [
    {
     "data": {
      "text/plain": [
       "carat      0\n",
       "cut        0\n",
       "color      0\n",
       "clarity    0\n",
       "depth      0\n",
       "table      0\n",
       "price      0\n",
       "x          0\n",
       "y          0\n",
       "z          0\n",
       "dtype: int64"
      ]
     },
     "execution_count": 7,
     "metadata": {},
     "output_type": "execute_result"
    }
   ],
   "source": [
    "df.isnull().sum()"
   ]
  },
  {
   "cell_type": "markdown",
   "id": "43668029",
   "metadata": {},
   "source": [
    "As can be seen, the count of all the parameters is the same as the total length of the dataframe. This shows that there are no null values in any of the columns. The same may be verified by using the isnull().sum() function as well.\n",
    "\n",
    "The standard deviation of the price is high. In fact, it is greater than the mean of the price. This indicates a high variance in the price.\n",
    "\n",
    "The price, y, and z also have a maximum value much higher than their respective medians. This indicates the presence of skewedness."
   ]
  },
  {
   "cell_type": "code",
   "execution_count": 8,
   "id": "4b4d8c3b",
   "metadata": {},
   "outputs": [
    {
     "data": {
      "text/plain": [
       "<AxesSubplot:>"
      ]
     },
     "execution_count": 8,
     "metadata": {},
     "output_type": "execute_result"
    },
    {
     "data": {
      "image/png": "[encoded data removed]",
      "text/plain": [
       "<Figure size 432x288 with 1 Axes>"
      ]
     },
     "metadata": {
      "needs_background": "light"
     },
     "output_type": "display_data"
    }
   ],
   "source": [
    "df['price'].hist()"
   ]
  },
  {
   "cell_type": "markdown",
   "id": "fc2ccb1e",
   "metadata": {},
   "source": [
    "### Checking for outliers:"
   ]
  },
  {
   "cell_type": "code",
   "execution_count": 9,
   "id": "309b47ef",
   "metadata": {},
   "outputs": [],
   "source": [
    "dims = ['x', 'y', 'z']"
   ]
  },
  {
   "cell_type": "markdown",
   "id": "933c666a",
   "metadata": {},
   "source": [
    "Using a boxplot to visualize the concentration of data:"
   ]
  },
  {
   "cell_type": "code",
   "execution_count": 10,
   "id": "5c7f0499",
   "metadata": {},
   "outputs": [
    {
     "data": {
      "text/plain": [
       "<AxesSubplot:>"
      ]
     },
     "execution_count": 10,
     "metadata": {},
     "output_type": "execute_result"
    },
    {
     "data": {
      "image/png": "[encoded data removed]",
      "text/plain": [
       "<Figure size 432x288 with 1 Axes>"
      ]
     },
     "metadata": {
      "needs_background": "light"
     },
     "output_type": "display_data"
    }
   ],
   "source": [
    "sns.boxplot(data = df[dims])"
   ]
  },
  {
   "cell_type": "markdown",
   "id": "0c962e58",
   "metadata": {},
   "source": [
    "Defining interquartile ranges for each of the three parameters (x, y and z) and using that to filter outliers:"
   ]
  },
  {
   "cell_type": "code",
   "execution_count": 11,
   "id": "7ed01988",
   "metadata": {},
   "outputs": [],
   "source": [
    "# for dim in dims:\n",
    "\n",
    "#     q1 = df[dim].quantile(0.25)                 \n",
    "#     q3 = df[dim].quantile(0.75)\n",
    "#     iqr = q3 - q1\n",
    "\n",
    "#     # Apply filter with respect to IQR, including optional whiskers\n",
    "#     filter = (df[dim] >= q1 - iqr*1.5) & (df[dim] <= q3 + 1.5*iqr)\n",
    "#     kd = df.loc[filter]\n",
    "\n",
    "# kd.reset_index(inplace = True)"
   ]
  },
  {
   "cell_type": "code",
   "execution_count": 12,
   "id": "de5ff6e7",
   "metadata": {},
   "outputs": [],
   "source": [
    "vol = []\n",
    "\n",
    "for i in range(len(df)):\n",
    "    vol.append((df.at[i, 'x'])*(df.at[i, 'y'])*(df.at[i, 'z']))\n",
    "\n",
    "# vol\n",
    "\n",
    "df.loc[:,'xyz'] = vol"
   ]
  },
  {
   "cell_type": "code",
   "execution_count": 13,
   "id": "63ab9be4",
   "metadata": {},
   "outputs": [],
   "source": [
    "for i in range(len(df)):\n",
    "    if df.loc[i, 'xyz'] == 0:\n",
    "        df.drop([i], inplace = True)\n",
    "\n",
    "df.reset_index(inplace = True)\n",
    "\n",
    "kd = df"
   ]
  },
  {
   "cell_type": "code",
   "execution_count": 14,
   "id": "f243fe4a",
   "metadata": {},
   "outputs": [
    {
     "data": {
      "text/html": [
       "<div>\n",
       "<style scoped>\n",
       "    .dataframe tbody tr th:only-of-type {\n",
       "        vertical-align: middle;\n",
       "    }\n",
       "\n",
       "    .dataframe tbody tr th {\n",
       "        vertical-align: top;\n",
       "    }\n",
       "\n",
       "    .dataframe thead th {\n",
       "        text-align: right;\n",
       "    }\n",
       "</style>\n",
       "<table border=\"1\" class=\"dataframe\">\n",
       "  <thead>\n",
       "    <tr style=\"text-align: right;\">\n",
       "      <th></th>\n",
       "      <th>index</th>\n",
       "      <th>carat</th>\n",
       "      <th>cut</th>\n",
       "      <th>color</th>\n",
       "      <th>clarity</th>\n",
       "      <th>depth</th>\n",
       "      <th>table</th>\n",
       "      <th>price</th>\n",
       "      <th>x</th>\n",
       "      <th>y</th>\n",
       "      <th>z</th>\n",
       "      <th>xyz</th>\n",
       "    </tr>\n",
       "  </thead>\n",
       "  <tbody>\n",
       "    <tr>\n",
       "      <th>0</th>\n",
       "      <td>0</td>\n",
       "      <td>0.23</td>\n",
       "      <td>Ideal</td>\n",
       "      <td>E</td>\n",
       "      <td>SI2</td>\n",
       "      <td>61.5</td>\n",
       "      <td>55.0</td>\n",
       "      <td>326</td>\n",
       "      <td>3.95</td>\n",
       "      <td>3.98</td>\n",
       "      <td>2.43</td>\n",
       "      <td>38.202030</td>\n",
       "    </tr>\n",
       "    <tr>\n",
       "      <th>1</th>\n",
       "      <td>1</td>\n",
       "      <td>0.21</td>\n",
       "      <td>Premium</td>\n",
       "      <td>E</td>\n",
       "      <td>SI1</td>\n",
       "      <td>59.8</td>\n",
       "      <td>61.0</td>\n",
       "      <td>326</td>\n",
       "      <td>3.89</td>\n",
       "      <td>3.84</td>\n",
       "      <td>2.31</td>\n",
       "      <td>34.505856</td>\n",
       "    </tr>\n",
       "    <tr>\n",
       "      <th>2</th>\n",
       "      <td>2</td>\n",
       "      <td>0.23</td>\n",
       "      <td>Good</td>\n",
       "      <td>E</td>\n",
       "      <td>VS1</td>\n",
       "      <td>56.9</td>\n",
       "      <td>65.0</td>\n",
       "      <td>327</td>\n",
       "      <td>4.05</td>\n",
       "      <td>4.07</td>\n",
       "      <td>2.31</td>\n",
       "      <td>38.076885</td>\n",
       "    </tr>\n",
       "    <tr>\n",
       "      <th>3</th>\n",
       "      <td>3</td>\n",
       "      <td>0.29</td>\n",
       "      <td>Premium</td>\n",
       "      <td>I</td>\n",
       "      <td>VS2</td>\n",
       "      <td>62.4</td>\n",
       "      <td>58.0</td>\n",
       "      <td>334</td>\n",
       "      <td>4.20</td>\n",
       "      <td>4.23</td>\n",
       "      <td>2.63</td>\n",
       "      <td>46.724580</td>\n",
       "    </tr>\n",
       "    <tr>\n",
       "      <th>4</th>\n",
       "      <td>4</td>\n",
       "      <td>0.31</td>\n",
       "      <td>Good</td>\n",
       "      <td>J</td>\n",
       "      <td>SI2</td>\n",
       "      <td>63.3</td>\n",
       "      <td>58.0</td>\n",
       "      <td>335</td>\n",
       "      <td>4.34</td>\n",
       "      <td>4.35</td>\n",
       "      <td>2.75</td>\n",
       "      <td>51.917250</td>\n",
       "    </tr>\n",
       "    <tr>\n",
       "      <th>...</th>\n",
       "      <td>...</td>\n",
       "      <td>...</td>\n",
       "      <td>...</td>\n",
       "      <td>...</td>\n",
       "      <td>...</td>\n",
       "      <td>...</td>\n",
       "      <td>...</td>\n",
       "      <td>...</td>\n",
       "      <td>...</td>\n",
       "      <td>...</td>\n",
       "      <td>...</td>\n",
       "      <td>...</td>\n",
       "    </tr>\n",
       "    <tr>\n",
       "      <th>53915</th>\n",
       "      <td>53935</td>\n",
       "      <td>0.72</td>\n",
       "      <td>Ideal</td>\n",
       "      <td>D</td>\n",
       "      <td>SI1</td>\n",
       "      <td>60.8</td>\n",
       "      <td>57.0</td>\n",
       "      <td>2757</td>\n",
       "      <td>5.75</td>\n",
       "      <td>5.76</td>\n",
       "      <td>3.50</td>\n",
       "      <td>115.920000</td>\n",
       "    </tr>\n",
       "    <tr>\n",
       "      <th>53916</th>\n",
       "      <td>53936</td>\n",
       "      <td>0.72</td>\n",
       "      <td>Good</td>\n",
       "      <td>D</td>\n",
       "      <td>SI1</td>\n",
       "      <td>63.1</td>\n",
       "      <td>55.0</td>\n",
       "      <td>2757</td>\n",
       "      <td>5.69</td>\n",
       "      <td>5.75</td>\n",
       "      <td>3.61</td>\n",
       "      <td>118.110175</td>\n",
       "    </tr>\n",
       "    <tr>\n",
       "      <th>53917</th>\n",
       "      <td>53937</td>\n",
       "      <td>0.70</td>\n",
       "      <td>Very Good</td>\n",
       "      <td>D</td>\n",
       "      <td>SI1</td>\n",
       "      <td>62.8</td>\n",
       "      <td>60.0</td>\n",
       "      <td>2757</td>\n",
       "      <td>5.66</td>\n",
       "      <td>5.68</td>\n",
       "      <td>3.56</td>\n",
       "      <td>114.449728</td>\n",
       "    </tr>\n",
       "    <tr>\n",
       "      <th>53918</th>\n",
       "      <td>53938</td>\n",
       "      <td>0.86</td>\n",
       "      <td>Premium</td>\n",
       "      <td>H</td>\n",
       "      <td>SI2</td>\n",
       "      <td>61.0</td>\n",
       "      <td>58.0</td>\n",
       "      <td>2757</td>\n",
       "      <td>6.15</td>\n",
       "      <td>6.12</td>\n",
       "      <td>3.74</td>\n",
       "      <td>140.766120</td>\n",
       "    </tr>\n",
       "    <tr>\n",
       "      <th>53919</th>\n",
       "      <td>53939</td>\n",
       "      <td>0.75</td>\n",
       "      <td>Ideal</td>\n",
       "      <td>D</td>\n",
       "      <td>SI2</td>\n",
       "      <td>62.2</td>\n",
       "      <td>55.0</td>\n",
       "      <td>2757</td>\n",
       "      <td>5.83</td>\n",
       "      <td>5.87</td>\n",
       "      <td>3.64</td>\n",
       "      <td>124.568444</td>\n",
       "    </tr>\n",
       "  </tbody>\n",
       "</table>\n",
       "<p>53920 rows × 12 columns</p>\n",
       "</div>"
      ],
      "text/plain": [
       "       index  carat        cut color clarity  depth  table  price     x     y  \\\n",
       "0          0   0.23      Ideal     E     SI2   61.5   55.0    326  3.95  3.98   \n",
       "1          1   0.21    Premium     E     SI1   59.8   61.0    326  3.89  3.84   \n",
       "2          2   0.23       Good     E     VS1   56.9   65.0    327  4.05  4.07   \n",
       "3          3   0.29    Premium     I     VS2   62.4   58.0    334  4.20  4.23   \n",
       "4          4   0.31       Good     J     SI2   63.3   58.0    335  4.34  4.35   \n",
       "...      ...    ...        ...   ...     ...    ...    ...    ...   ...   ...   \n",
       "53915  53935   0.72      Ideal     D     SI1   60.8   57.0   2757  5.75  5.76   \n",
       "53916  53936   0.72       Good     D     SI1   63.1   55.0   2757  5.69  5.75   \n",
       "53917  53937   0.70  Very Good     D     SI1   62.8   60.0   2757  5.66  5.68   \n",
       "53918  53938   0.86    Premium     H     SI2   61.0   58.0   2757  6.15  6.12   \n",
       "53919  53939   0.75      Ideal     D     SI2   62.2   55.0   2757  5.83  5.87   \n",
       "\n",
       "          z         xyz  \n",
       "0      2.43   38.202030  \n",
       "1      2.31   34.505856  \n",
       "2      2.31   38.076885  \n",
       "3      2.63   46.724580  \n",
       "4      2.75   51.917250  \n",
       "...     ...         ...  \n",
       "53915  3.50  115.920000  \n",
       "53916  3.61  118.110175  \n",
       "53917  3.56  114.449728  \n",
       "53918  3.74  140.766120  \n",
       "53919  3.64  124.568444  \n",
       "\n",
       "[53920 rows x 12 columns]"
      ]
     },
     "execution_count": 14,
     "metadata": {},
     "output_type": "execute_result"
    }
   ],
   "source": [
    "kd"
   ]
  },
  {
   "cell_type": "markdown",
   "id": "510bda5e",
   "metadata": {},
   "source": [
    "The filtered dataframe is named kd. Further analysis will be conducted on this dataframe."
   ]
  },
  {
   "cell_type": "markdown",
   "id": "c9351c50",
   "metadata": {},
   "source": [
    "### Univariate, bivariate and multivariate analysis"
   ]
  },
  {
   "cell_type": "markdown",
   "id": "6d42469f",
   "metadata": {},
   "source": [
    "Analyzing a categorical parameter:"
   ]
  },
  {
   "cell_type": "code",
   "execution_count": 15,
   "id": "08dd000e",
   "metadata": {},
   "outputs": [
    {
     "name": "stdout",
     "output_type": "stream",
     "text": [
      "Enter a categorical parameter:  cut\n"
     ]
    }
   ],
   "source": [
    "param = input('Enter a categorical parameter:  ')"
   ]
  },
  {
   "cell_type": "code",
   "execution_count": 16,
   "id": "6d302b9e",
   "metadata": {},
   "outputs": [
    {
     "data": {
      "text/plain": [
       "Ideal        21548\n",
       "Premium      13780\n",
       "Very Good    12081\n",
       "Good          4902\n",
       "Fair          1609\n",
       "Name: cut, dtype: int64"
      ]
     },
     "execution_count": 16,
     "metadata": {},
     "output_type": "execute_result"
    }
   ],
   "source": [
    "kd[param].value_counts()"
   ]
  },
  {
   "cell_type": "code",
   "execution_count": 17,
   "id": "134fb30b",
   "metadata": {},
   "outputs": [
    {
     "data": {
      "image/png": "[encoded data removed]",
      "text/plain": [
       "<Figure size 432x288 with 1 Axes>"
      ]
     },
     "metadata": {},
     "output_type": "display_data"
    }
   ],
   "source": [
    "kd[param].value_counts().plot.pie(wedgeprops = {'linewidth': 2, 'edgecolor': 'white'}, legend = True)\n",
    "plt.show()"
   ]
  },
  {
   "cell_type": "code",
   "execution_count": 18,
   "id": "a39cfc6d",
   "metadata": {},
   "outputs": [
    {
     "data": {
      "text/plain": [
       "count     53920\n",
       "unique        5\n",
       "top       Ideal\n",
       "freq      21548\n",
       "Name: cut, dtype: object"
      ]
     },
     "execution_count": 18,
     "metadata": {},
     "output_type": "execute_result"
    }
   ],
   "source": [
    "kd[param].describe()"
   ]
  },
  {
   "cell_type": "markdown",
   "id": "2c83a3d6",
   "metadata": {},
   "source": [
    "Understanding how one parameter relates to another:"
   ]
  },
  {
   "cell_type": "code",
   "execution_count": 19,
   "id": "2dec1d7a",
   "metadata": {},
   "outputs": [
    {
     "name": "stdout",
     "output_type": "stream",
     "text": [
      "Enter parameter 1:  cut\n",
      "Enter parameter 2:  color\n"
     ]
    }
   ],
   "source": [
    "x, y = input('Enter parameter 1:  '), input('Enter parameter 2:  ')"
   ]
  },
  {
   "cell_type": "code",
   "execution_count": 20,
   "id": "ff928d0e",
   "metadata": {},
   "outputs": [
    {
     "data": {
      "image/png": "[encoded data removed]",
      "text/plain": [
       "<Figure size 1440x432 with 1 Axes>"
      ]
     },
     "metadata": {
      "needs_background": "light"
     },
     "output_type": "display_data"
    }
   ],
   "source": [
    "plt.rcParams['figure.figsize'] = (20, 6)\n",
    "\n",
    "kd.plot.scatter(x, y, color = 'lightcoral')\n",
    "plt.show()"
   ]
  },
  {
   "cell_type": "markdown",
   "id": "d582a6c6",
   "metadata": {},
   "source": [
    "Correlation plots:"
   ]
  },
  {
   "cell_type": "code",
   "execution_count": 21,
   "id": "4b7be142",
   "metadata": {},
   "outputs": [
    {
     "data": {
      "image/png": "[encoded data removed]",
      "text/plain": [
       "<Figure size 1440x432 with 2 Axes>"
      ]
     },
     "metadata": {
      "needs_background": "light"
     },
     "output_type": "display_data"
    }
   ],
   "source": [
    "# kd[['depth', 'table', 'carat']].corr()\n",
    "\n",
    "sns.heatmap(kd[['depth', 'carat', 'price']].corr(), annot = False, cmap = 'Reds')\n",
    "plt.show()"
   ]
  },
  {
   "cell_type": "markdown",
   "id": "5281ca08",
   "metadata": {},
   "source": [
    "Categorical-Numerical data analysis:"
   ]
  },
  {
   "cell_type": "code",
   "execution_count": 22,
   "id": "64ca212a",
   "metadata": {},
   "outputs": [
    {
     "data": {
      "text/plain": [
       "cut\n",
       "Fair         3282.0\n",
       "Good         3050.5\n",
       "Ideal        1809.5\n",
       "Premium      3182.0\n",
       "Very Good    2647.0\n",
       "Name: price, dtype: float64"
      ]
     },
     "execution_count": 22,
     "metadata": {},
     "output_type": "execute_result"
    }
   ],
   "source": [
    "kd.groupby('cut')['price'].median()"
   ]
  },
  {
   "cell_type": "code",
   "execution_count": 23,
   "id": "f3138725",
   "metadata": {},
   "outputs": [
    {
     "name": "stderr",
     "output_type": "stream",
     "text": [
      "/opt/anaconda3/lib/python3.9/site-packages/seaborn/_decorators.py:36: FutureWarning: Pass the following variables as keyword args: x, y. From version 0.12, the only valid positional argument will be `data`, and passing other arguments without an explicit keyword will result in an error or misinterpretation.\n",
      "  warnings.warn(\n"
     ]
    },
    {
     "data": {
      "image/png": "[encoded data removed]",
      "text/plain": [
       "<Figure size 1440x432 with 1 Axes>"
      ]
     },
     "metadata": {
      "needs_background": "light"
     },
     "output_type": "display_data"
    }
   ],
   "source": [
    "sns.boxplot(kd['cut'], kd['price'])\n",
    "plt.show()"
   ]
  },
  {
   "cell_type": "markdown",
   "id": "2ab0c493",
   "metadata": {},
   "source": [
    "Pairplots:"
   ]
  },
  {
   "cell_type": "code",
   "execution_count": 24,
   "id": "c011a59b",
   "metadata": {},
   "outputs": [
    {
     "data": {
      "image/png": "[encoded data removed]",
      "text/plain": [
       "<Figure size 540x540 with 12 Axes>"
      ]
     },
     "metadata": {
      "needs_background": "light"
     },
     "output_type": "display_data"
    }
   ],
   "source": [
    "sns.pairplot(data = kd, vars = ['cut', 'clarity', 'price'])\n",
    "plt.show()"
   ]
  },
  {
   "cell_type": "markdown",
   "id": "9cf69355",
   "metadata": {},
   "source": [
    "Understanding how three parameters relate to one another:"
   ]
  },
  {
   "cell_type": "code",
   "execution_count": 25,
   "id": "ff0db4f0",
   "metadata": {},
   "outputs": [
    {
     "name": "stdout",
     "output_type": "stream",
     "text": [
      "Enter parameter 1:  cut\n",
      "Enter parameter 2:  color\n"
     ]
    }
   ],
   "source": [
    "i, c, v = input('Enter parameter 1:  '), input('Enter parameter 2:  '), 'price'"
   ]
  },
  {
   "cell_type": "code",
   "execution_count": 26,
   "id": "e267e8f3",
   "metadata": {},
   "outputs": [
    {
     "data": {
      "image/png": "[encoded data removed]",
      "text/plain": [
       "<Figure size 1440x432 with 2 Axes>"
      ]
     },
     "metadata": {
      "needs_background": "light"
     },
     "output_type": "display_data"
    }
   ],
   "source": [
    "result = pd.pivot_table(data = kd, index = i, columns = c, values = v)\n",
    "\n",
    "sns.heatmap(result, annot = False, cmap = 'coolwarm', center = 0.117)\n",
    "plt.show()"
   ]
  },
  {
   "cell_type": "markdown",
   "id": "82b746c7",
   "metadata": {},
   "source": [
    "### Observations:"
   ]
  },
  {
   "cell_type": "markdown",
   "id": "62b8c51f",
   "metadata": {},
   "source": [
    "Diamonds with a premium cut are expensive is amazing and so are those in colour J. Even though class SI2 is not the best when it comes to clarity, diamonds of SI2 clarity are also expensive. This suggests a possible correlation between clarity and another parameter upon which the price might be dependent. However, conclusive remarks cannot be made about the same at this point."
   ]
  },
  {
   "cell_type": "markdown",
   "id": "a8999dc0",
   "metadata": {},
   "source": [
    "Greater the values of x, y and z, higher the price."
   ]
  },
  {
   "cell_type": "markdown",
   "id": "2b1d4eb2",
   "metadata": {},
   "source": [
    "A heatmap of (carat, clarity, price) is a good indicator of the patterns and correlations."
   ]
  },
  {
   "cell_type": "markdown",
   "id": "f8d0c92d",
   "metadata": {},
   "source": [
    "Fair cut diamonds are expensive around the carat values 2 and 2.5."
   ]
  },
  {
   "cell_type": "markdown",
   "id": "e7aee546",
   "metadata": {},
   "source": [
    "### Regression"
   ]
  },
  {
   "cell_type": "code",
   "execution_count": 27,
   "id": "6c1504c7",
   "metadata": {},
   "outputs": [],
   "source": [
    "import warnings\n",
    "warnings.filterwarnings('ignore')\n",
    "\n",
    "# Modelling Algorithms:\n",
    "\n",
    "# Regression\n",
    "from sklearn.linear_model import LinearRegression, Ridge, Lasso, RidgeCV, ElasticNet\n",
    "from sklearn.ensemble import RandomForestRegressor, BaggingRegressor, GradientBoostingRegressor, AdaBoostRegressor \n",
    "from sklearn.svm import SVR\n",
    "from sklearn.neighbors import KNeighborsRegressor\n",
    "from sklearn.neural_network import MLPRegressor\n",
    "\n",
    "# Modelling Helpers:\n",
    "from sklearn.preprocessing import Normalizer, scale\n",
    "from sklearn.model_selection import train_test_split\n",
    "from sklearn.feature_selection import RFECV\n",
    "from sklearn.model_selection import GridSearchCV, KFold, cross_val_score\n",
    "\n",
    "#preprocessing :\n",
    "from sklearn.preprocessing import MinMaxScaler, StandardScaler, LabelEncoder\n",
    "\n",
    "#evaluation metrics:\n",
    "\n",
    "# Regression\n",
    "from sklearn.metrics import mean_squared_log_error, mean_squared_error, r2_score, mean_absolute_error \n",
    "\n",
    "# Visualisation\n",
    "import matplotlib as mpl\n",
    "import matplotlib.pylab as pylab\n",
    "\n",
    "# Configure visualisations\n",
    "%matplotlib inline\n",
    "mpl.style.use( 'ggplot' )\n",
    "plt.style.use('fivethirtyeight')\n",
    "sns.set(context=\"notebook\", palette=\"dark\", style = 'whitegrid' , color_codes=True)\n",
    "params = { \n",
    "    'axes.labelsize': \"large\",\n",
    "    'xtick.labelsize': 'x-large',\n",
    "    'legend.fontsize': 20,\n",
    "    'figure.dpi': 150,\n",
    "    'figure.figsize': [25, 7]\n",
    "}\n",
    "plt.rcParams.update(params)"
   ]
  },
  {
   "cell_type": "markdown",
   "id": "693fae2b",
   "metadata": {},
   "source": [
    "Feature encoding is performed on important categorical variables in order to prepare a better numerical model for the regression."
   ]
  },
  {
   "cell_type": "code",
   "execution_count": 28,
   "id": "6c458ce6",
   "metadata": {},
   "outputs": [],
   "source": [
    "label_cut = LabelEncoder()\n",
    "label_color = LabelEncoder()\n",
    "label_clarity = LabelEncoder()\n",
    "\n",
    "\n",
    "df['cut'] = label_cut.fit_transform(df['cut'])\n",
    "df['color'] = label_color.fit_transform(df['color'])\n",
    "df['clarity'] = label_clarity.fit_transform(df['clarity'])"
   ]
  },
  {
   "cell_type": "markdown",
   "id": "e6715ef8",
   "metadata": {},
   "source": [
    "Train-test split:"
   ]
  },
  {
   "cell_type": "code",
   "execution_count": 29,
   "id": "79544871",
   "metadata": {},
   "outputs": [],
   "source": [
    "X = df.drop(['price'], axis = 1)\n",
    "y = df['price']\n",
    "X_train, X_test, y_train, y_test = train_test_split(X, y, test_size = 0.2, random_state = 66)"
   ]
  },
  {
   "cell_type": "markdown",
   "id": "25f09233",
   "metadata": {},
   "source": [
    "Feature scaling:"
   ]
  },
  {
   "cell_type": "code",
   "execution_count": null,
   "id": "5b54e231",
   "metadata": {},
   "outputs": [],
   "source": [
    "sc = StandardScaler()\n",
    "X_train = sc.fit_transform(X_train)\n",
    "X_test = sc.transform(X_test)"
   ]
  },
  {
   "cell_type": "markdown",
   "id": "953ae8ed",
   "metadata": {},
   "source": [
    "Scores and models:"
   ]
  },
  {
   "cell_type": "code",
   "execution_count": 31,
   "id": "d262e6a7",
   "metadata": {},
   "outputs": [],
   "source": [
    "R2_Scores = []\n",
    "models = ['Linear Regression' , 'Lasso Regression' , 'AdaBoost Regression' , 'Ridge Regression' , 'GradientBoosting Regression']"
   ]
  },
  {
   "cell_type": "markdown",
   "id": "8a9903a4",
   "metadata": {},
   "source": [
    "Linear regression:"
   ]
  },
  {
   "cell_type": "code",
   "execution_count": 32,
   "id": "2f40cfa8",
   "metadata": {},
   "outputs": [
    {
     "name": "stderr",
     "output_type": "stream",
     "text": [
      "[Parallel(n_jobs=1)]: Using backend SequentialBackend with 1 concurrent workers.\n",
      "[Parallel(n_jobs=1)]: Done   5 out of   5 | elapsed:    0.1s finished\n"
     ]
    },
    {
     "name": "stdout",
     "output_type": "stream",
     "text": [
      "\n",
      "Linear Regression\n",
      "Score : 0.8878\n",
      "[0.81185655 0.8896162  0.88415445 0.87934992 0.89068855]\n",
      "\n",
      "MSE    : 1808254.96 \n",
      "MAE    : 860.26 \n",
      "RMSE   : 1344.71 \n",
      "R2     : 0.89 \n",
      "Linear Regression Coefficients: \n",
      "\n",
      "[ 6.85731935e-03  1.04067330e+04  7.33316886e+01 -2.67666039e+02\n",
      "  2.87964454e+02 -1.37730713e+02 -9.03758855e+01 -8.72701250e+02\n",
      " -1.96207573e+02 -1.58598741e+02  4.36925780e+00]\n",
      "                            OLS Regression Results                            \n",
      "==============================================================================\n",
      "Dep. Variable:                  price   R-squared:                       0.886\n",
      "Model:                            OLS   Adj. R-squared:                  0.886\n",
      "Method:                 Least Squares   F-statistic:                 3.037e+04\n",
      "Date:                Wed, 05 Oct 2022   Prob (F-statistic):               0.00\n",
      "Time:                        16:18:32   Log-Likelihood:            -3.7199e+05\n",
      "No. Observations:               43136   AIC:                         7.440e+05\n",
      "Df Residuals:                   43124   BIC:                         7.441e+05\n",
      "Df Model:                          11                                         \n",
      "Covariance Type:            nonrobust                                         \n",
      "==============================================================================\n",
      "                 coef    std err          t      P>|t|      [0.025      0.975]\n",
      "------------------------------------------------------------------------------\n",
      "const       1.466e+04    486.660     30.126      0.000    1.37e+04    1.56e+04\n",
      "index          0.0069      0.000     14.879      0.000       0.006       0.008\n",
      "carat       1.041e+04    168.905     61.613      0.000    1.01e+04    1.07e+04\n",
      "cut           73.3317      6.479     11.318      0.000      60.633      86.031\n",
      "color       -267.6660      4.001    -66.903      0.000    -275.508    -259.824\n",
      "clarity      287.9645      3.884     74.144      0.000     280.352     295.577\n",
      "depth       -137.7307      6.076    -22.670      0.000    -149.639    -125.823\n",
      "table        -90.3759      3.138    -28.804      0.000     -96.526     -84.226\n",
      "x           -872.7012     80.075    -10.899      0.000   -1029.650    -715.753\n",
      "y           -196.2076     61.466     -3.192      0.001    -316.682     -75.733\n",
      "z           -158.5987     51.039     -3.107      0.002    -258.637     -58.561\n",
      "xyz            4.3693      1.007      4.338      0.000       2.395       6.343\n",
      "==============================================================================\n",
      "Omnibus:                    10808.493   Durbin-Watson:                   2.012\n",
      "Prob(Omnibus):                  0.000   Jarque-Bera (JB):           476041.546\n",
      "Skew:                           0.431   Prob(JB):                         0.00\n",
      "Kurtosis:                      19.252   Cond. No.                     2.37e+06\n",
      "==============================================================================\n",
      "\n",
      "Notes:\n",
      "[1] Standard Errors assume that the covariance matrix of the errors is correctly specified.\n",
      "[2] The condition number is large, 2.37e+06. This might indicate that there are\n",
      "strong multicollinearity or other numerical problems.\n"
     ]
    }
   ],
   "source": [
    "clf_lr = LinearRegression()\n",
    "clf_lr.fit(X_train, y_train)\n",
    "\n",
    "accuracies = cross_val_score(estimator = clf_lr, X = X_train, y = y_train, cv = 5, verbose = 1)\n",
    "\n",
    "y_pred = clf_lr.predict(X_test)\n",
    "\n",
    "print('')\n",
    "print('Linear Regression')\n",
    "print('Score : %.4f' % clf_lr.score(X_test, y_test))\n",
    "print(accuracies)\n",
    "\n",
    "mse = mean_squared_error(y_test, y_pred)\n",
    "mae = mean_absolute_error(y_test, y_pred)\n",
    "rmse = mean_squared_error(y_test, y_pred)**0.5\n",
    "r2 = r2_score(y_test, y_pred)\n",
    "\n",
    "print('')\n",
    "print('MSE    : %0.2f ' % mse)\n",
    "print('MAE    : %0.2f ' % mae)\n",
    "print('RMSE   : %0.2f ' % rmse)\n",
    "print('R2     : %0.2f ' % r2)\n",
    "\n",
    "print(\"Linear Regression Coefficients: \\n\")\n",
    "print(clf_lr.coef_)\n",
    "\n",
    "R2_Scores.append(r2)\n",
    "\n",
    "import statsmodels.api as sm\n",
    "\n",
    "x_train = X_train\n",
    "y_train_2 = y_train\n",
    "x_train_1 = sm.add_constant(x_train)\n",
    "model = sm.OLS(y_train_2, x_train_1)\n",
    "results = model.fit()\n",
    "print(results.summary())"
   ]
  },
  {
   "cell_type": "markdown",
   "id": "fb5ca7d3",
   "metadata": {},
   "source": [
    "Lasso regression:"
   ]
  },
  {
   "cell_type": "code",
   "execution_count": 33,
   "id": "96876806",
   "metadata": {},
   "outputs": [
    {
     "name": "stdout",
     "output_type": "stream",
     "text": [
      "\n",
      "###### Lasso Regression ######\n",
      "Score : 0.8659\n",
      "[0.84325794 0.86900908 0.86386377 0.86539939 0.86976975]\n",
      "Lasso Regression Coefficients: \n",
      "\n",
      "[ 0.00000000e+00  7.33393042e+03  0.00000000e+00 -7.98470444e+01\n",
      "  1.55389438e+02 -0.00000000e+00 -0.00000000e+00  0.00000000e+00\n",
      "  0.00000000e+00  0.00000000e+00  1.07782927e+00]\n",
      "\n",
      "MSE    : 2162331.83 \n",
      "MAE    : 909.60 \n",
      "RMSE   : 1470.49 \n",
      "R2     : 0.87 \n"
     ]
    },
    {
     "name": "stderr",
     "output_type": "stream",
     "text": [
      "[Parallel(n_jobs=1)]: Using backend SequentialBackend with 1 concurrent workers.\n",
      "[Parallel(n_jobs=1)]: Done   5 out of   5 | elapsed:    0.1s finished\n"
     ]
    }
   ],
   "source": [
    "clf_la = Lasso(normalize=True)\n",
    "clf_la.fit(X_train , y_train)\n",
    "accuracies = cross_val_score(estimator = clf_la, X = X_train, y = y_train, cv = 5,verbose = 1)\n",
    "y_pred = clf_la.predict(X_test)\n",
    "print('')\n",
    "print('###### Lasso Regression ######')\n",
    "print('Score : %.4f' % clf_la.score(X_test, y_test))\n",
    "print(accuracies)\n",
    "\n",
    "mse = mean_squared_error(y_test, y_pred)\n",
    "mae = mean_absolute_error(y_test, y_pred)\n",
    "rmse = mean_squared_error(y_test, y_pred)**0.5\n",
    "r2 = r2_score(y_test, y_pred)\n",
    "\n",
    "print(\"Lasso Regression Coefficients: \\n\")\n",
    "print(clf_la.coef_)\n",
    "\n",
    "print('')\n",
    "print('MSE    : %0.2f ' % mse)\n",
    "print('MAE    : %0.2f ' % mae)\n",
    "print('RMSE   : %0.2f ' % rmse)\n",
    "print('R2     : %0.2f ' % r2)\n",
    "\n",
    "R2_Scores.append(r2)"
   ]
  },
  {
   "cell_type": "markdown",
   "id": "d8db1b06",
   "metadata": {},
   "source": [
    "Adaptive boosting:"
   ]
  },
  {
   "cell_type": "code",
   "execution_count": 34,
   "id": "9706649b",
   "metadata": {},
   "outputs": [
    {
     "name": "stderr",
     "output_type": "stream",
     "text": [
      "[Parallel(n_jobs=1)]: Using backend SequentialBackend with 1 concurrent workers.\n",
      "[Parallel(n_jobs=1)]: Done   5 out of   5 | elapsed:  1.1min finished\n"
     ]
    },
    {
     "name": "stdout",
     "output_type": "stream",
     "text": [
      "\n",
      "###### AdaBoost Regression ######\n",
      "Score : 0.9843\n",
      "[0.9849192  0.98956434 0.98491296 0.97988582 0.98480692]\n",
      "\n",
      "MSE    : 252859.70 \n",
      "MAE    : 363.45 \n",
      "RMSE   : 502.85 \n",
      "R2     : 0.98 \n"
     ]
    }
   ],
   "source": [
    "clf_ar = AdaBoostRegressor(n_estimators=1000)\n",
    "clf_ar.fit(X_train , y_train)\n",
    "accuracies = cross_val_score(estimator = clf_ar, X = X_train, y = y_train, cv = 5,verbose = 1)\n",
    "y_pred = clf_ar.predict(X_test)\n",
    "print('')\n",
    "print('###### AdaBoost Regression ######')\n",
    "print('Score : %.4f' % clf_ar.score(X_test, y_test))\n",
    "print(accuracies)\n",
    "\n",
    "mse = mean_squared_error(y_test, y_pred)\n",
    "mae = mean_absolute_error(y_test, y_pred)\n",
    "rmse = mean_squared_error(y_test, y_pred)**0.5\n",
    "r2 = r2_score(y_test, y_pred)\n",
    "\n",
    "\n",
    "print('')\n",
    "print('MSE    : %0.2f ' % mse)\n",
    "print('MAE    : %0.2f ' % mae)\n",
    "print('RMSE   : %0.2f ' % rmse)\n",
    "print('R2     : %0.2f ' % r2)\n",
    "\n",
    "R2_Scores.append(r2)"
   ]
  },
  {
   "cell_type": "markdown",
   "id": "414ffd99",
   "metadata": {},
   "source": [
    "Ridge regression:"
   ]
  },
  {
   "cell_type": "code",
   "execution_count": 35,
   "id": "2b999664",
   "metadata": {},
   "outputs": [
    {
     "name": "stdout",
     "output_type": "stream",
     "text": [
      "\n",
      "###### Ridge Regression ######\n",
      "Score : 0.8094\n",
      "[0.79012192 0.81111763 0.80298416 0.81018847 0.80017348]\n",
      "Ridge Regression Coefficients: \n",
      "\n",
      "[-2.10235441e-03  1.56184322e+03  4.52307347e+01 -4.63542931e+01\n",
      "  1.09143301e+02 -2.57438136e+01 -8.21320136e+00  5.35175480e+02\n",
      "  4.54084534e+02  7.75377371e+02  8.36038844e+00]\n",
      "\n",
      "MSE    : 3071958.90 \n",
      "MAE    : 1115.44 \n",
      "RMSE   : 1752.70 \n",
      "R2     : 0.81 \n"
     ]
    },
    {
     "name": "stderr",
     "output_type": "stream",
     "text": [
      "[Parallel(n_jobs=1)]: Using backend SequentialBackend with 1 concurrent workers.\n",
      "[Parallel(n_jobs=1)]: Done   5 out of   5 | elapsed:    0.0s finished\n"
     ]
    }
   ],
   "source": [
    "clf_rr = Ridge(normalize=True)\n",
    "clf_rr.fit(X_train , y_train)\n",
    "accuracies = cross_val_score(estimator = clf_rr, X = X_train, y = y_train, cv = 5,verbose = 1)\n",
    "y_pred = clf_rr.predict(X_test)\n",
    "print('')\n",
    "print('###### Ridge Regression ######')\n",
    "print('Score : %.4f' % clf_rr.score(X_test, y_test))\n",
    "print(accuracies)\n",
    "\n",
    "mse = mean_squared_error(y_test, y_pred)\n",
    "mae = mean_absolute_error(y_test, y_pred)\n",
    "rmse = mean_squared_error(y_test, y_pred)**0.5\n",
    "r2 = r2_score(y_test, y_pred)\n",
    "\n",
    "print(\"Ridge Regression Coefficients: \\n\")\n",
    "print(clf_rr.coef_)\n",
    "\n",
    "print('')\n",
    "print('MSE    : %0.2f ' % mse)\n",
    "print('MAE    : %0.2f ' % mae)\n",
    "print('RMSE   : %0.2f ' % rmse)\n",
    "print('R2     : %0.2f ' % r2)\n",
    "\n",
    "R2_Scores.append(r2)"
   ]
  },
  {
   "cell_type": "markdown",
   "id": "d7b96062",
   "metadata": {},
   "source": [
    "Gradient boosting:"
   ]
  },
  {
   "cell_type": "code",
   "execution_count": 36,
   "id": "62b88809",
   "metadata": {},
   "outputs": [
    {
     "name": "stdout",
     "output_type": "stream",
     "text": [
      "      Iter       Train Loss   Remaining Time \n",
      "         1    14009477.5296            3.78s\n",
      "         2    12433575.2888            3.15s\n",
      "         3    11109502.2916            2.71s\n",
      "         4     9937776.7996            2.44s\n",
      "         5     8966558.8687            2.28s\n",
      "         6     8096005.0633            2.17s\n",
      "         7     7373711.1444            2.09s\n",
      "         8     6738065.9593            2.02s\n",
      "         9     6180388.7336            1.95s\n",
      "        10     5706212.9974            1.90s\n",
      "        20     3178181.4434            1.56s\n",
      "        30     2363612.4206            1.33s\n",
      "        40     2070989.7932            1.13s\n",
      "        50     1895018.3539            0.93s\n",
      "        60     1760053.1769            0.74s\n",
      "        70     1649778.4811            0.56s\n",
      "        80     1558785.8634            0.37s\n",
      "        90     1480939.0050            0.18s\n",
      "       100     1415690.8051            0.00s\n",
      "      Iter       Train Loss   Remaining Time \n"
     ]
    },
    {
     "name": "stderr",
     "output_type": "stream",
     "text": [
      "[Parallel(n_jobs=1)]: Using backend SequentialBackend with 1 concurrent workers.\n"
     ]
    },
    {
     "name": "stdout",
     "output_type": "stream",
     "text": [
      "         1    13994442.1962            1.41s\n",
      "         2    12426440.5284            1.42s\n",
      "         3    11108088.3521            1.42s\n",
      "         4     9941369.9148            1.40s\n",
      "         5     8972575.1351            1.39s\n",
      "         6     8101418.5030            1.38s\n",
      "         7     7381240.7228            1.37s\n",
      "         8     6747226.1136            1.35s\n",
      "         9     6188368.2140            1.33s\n",
      "        10     5715256.1380            1.32s\n",
      "        20     3183392.6845            1.16s\n",
      "        30     2364789.1263            1.01s\n",
      "        40     2070038.5779            0.87s\n",
      "        50     1893483.9498            0.72s\n",
      "        60     1756717.1092            0.58s\n",
      "        70     1645761.5306            0.43s\n",
      "        80     1553483.7276            0.29s\n",
      "        90     1475766.1845            0.14s\n",
      "       100     1410213.8024            0.00s\n",
      "      Iter       Train Loss   Remaining Time \n",
      "         1    14044115.9884            1.41s\n",
      "         2    12470215.8336            1.40s\n",
      "         3    11127607.3872            1.39s\n",
      "         4     9974183.4598            1.37s\n",
      "         5     8989306.4316            1.36s\n",
      "         6     8130636.9629            1.35s\n",
      "         7     7403440.0232            1.34s\n",
      "         8     6750959.0039            1.33s\n",
      "         9     6210130.8568            1.31s\n",
      "        10     5722977.8071            1.30s\n",
      "        20     3191999.7916            1.15s\n",
      "        30     2377662.8009            1.01s\n",
      "        40     2085428.4379            0.86s\n",
      "        50     1909405.1132            0.72s\n",
      "        60     1774062.7657            0.58s\n",
      "        70     1663250.6368            0.43s\n",
      "        80     1571703.9033            0.29s\n",
      "        90     1493806.9958            0.14s\n",
      "       100     1428222.6396            0.00s\n",
      "      Iter       Train Loss   Remaining Time \n",
      "         1    14049930.2441            1.40s\n",
      "         2    12461921.4666            1.40s\n",
      "         3    11138314.8154            1.40s\n",
      "         4     9953517.5457            1.38s\n",
      "         5     8983613.4577            1.38s\n",
      "         6     8105585.6366            1.37s\n",
      "         7     7378171.2641            1.36s\n",
      "         8     6743334.1872            1.35s\n",
      "         9     6182149.3582            1.33s\n",
      "        10     5708951.1867            1.31s\n",
      "        20     3164480.5845            1.16s\n",
      "        30     2349303.2442            1.01s\n",
      "        40     2057381.0025            0.87s\n",
      "        50     1881232.0034            0.72s\n",
      "        60     1746749.1821            0.58s\n",
      "        70     1637155.9808            0.43s\n",
      "        80     1546646.5489            0.29s\n",
      "        90     1470655.4452            0.14s\n",
      "       100     1406131.1811            0.00s\n",
      "      Iter       Train Loss   Remaining Time \n",
      "         1    13979667.1721            1.40s\n",
      "         2    12405613.1473            1.40s\n",
      "         3    11085308.4332            1.40s\n",
      "         4     9917428.0560            1.38s\n",
      "         5     8948471.5329            1.38s\n",
      "         6     8080809.2761            1.36s\n",
      "         7     7360329.3079            1.36s\n",
      "         8     6726642.2070            1.34s\n",
      "         9     6169002.5491            1.32s\n",
      "        10     5696115.8792            1.31s\n",
      "        20     3167301.7923            1.15s\n",
      "        30     2352168.9245            1.01s\n",
      "        40     2058997.9024            0.87s\n",
      "        50     1882946.9583            0.72s\n",
      "        60     1749154.3277            0.58s\n",
      "        70     1640553.7996            0.43s\n",
      "        80     1550467.0210            0.29s\n",
      "        90     1475082.4365            0.15s\n",
      "       100     1410651.1029            0.00s\n",
      "      Iter       Train Loss   Remaining Time \n",
      "         1    13978748.2331            1.40s\n",
      "         2    12400081.8779            1.40s\n",
      "         3    11075737.0760            1.40s\n",
      "         4     9905963.5540            1.38s\n",
      "         5     8935956.6562            1.37s\n",
      "         6     8068280.0811            1.36s\n",
      "         7     7344832.8967            1.35s\n",
      "         8     6711971.4186            1.34s\n",
      "         9     6156426.2398            1.32s\n",
      "        10     5684438.7082            1.31s\n",
      "        20     3171838.1637            1.16s\n",
      "        30     2366331.9723            1.01s\n",
      "        40     2074167.2252            0.87s\n",
      "        50     1900604.0544            0.73s\n",
      "        60     1765374.5408            0.58s\n",
      "        70     1654751.6295            0.44s\n",
      "        80     1564109.2670            0.29s\n",
      "        90     1486955.1755            0.15s\n",
      "       100     1421373.6433            0.00s\n",
      "\n",
      "###### Gradient Boosting Regression #######\n",
      "Score : 0.9121\n",
      "[0.91056976 0.91265184 0.90610673 0.90788404 0.91023248]\n",
      "\n",
      "MSE    : 1417178.27 \n",
      "MAE    : 698.46 \n",
      "RMSE   : 1190.45 \n",
      "R2     : 0.91 \n"
     ]
    },
    {
     "name": "stderr",
     "output_type": "stream",
     "text": [
      "[Parallel(n_jobs=1)]: Done   5 out of   5 | elapsed:    7.3s finished\n"
     ]
    }
   ],
   "source": [
    "clf_gbr = GradientBoostingRegressor(n_estimators=100, learning_rate=0.1,max_depth=1, random_state=0, loss='ls',verbose = 1)\n",
    "clf_gbr.fit(X_train , y_train)\n",
    "accuracies = cross_val_score(estimator = clf_gbr, X = X_train, y = y_train, cv = 5,verbose = 1)\n",
    "y_pred = clf_gbr.predict(X_test)\n",
    "print('')\n",
    "print('###### Gradient Boosting Regression #######')\n",
    "print('Score : %.4f' % clf_gbr.score(X_test, y_test))\n",
    "print(accuracies)\n",
    "\n",
    "mse = mean_squared_error(y_test, y_pred)\n",
    "mae = mean_absolute_error(y_test, y_pred)\n",
    "rmse = mean_squared_error(y_test, y_pred)**0.5\n",
    "r2 = r2_score(y_test, y_pred)\n",
    "\n",
    "print('')\n",
    "print('MSE    : %0.2f ' % mse)\n",
    "print('MAE    : %0.2f ' % mae)\n",
    "print('RMSE   : %0.2f ' % rmse)\n",
    "print('R2     : %0.2f ' % r2)\n",
    "\n",
    "R2_Scores.append(r2)"
   ]
  },
  {
   "cell_type": "markdown",
   "id": "38f1e012",
   "metadata": {},
   "source": [
    "Comparing R2 scores of the various algorithms:"
   ]
  },
  {
   "cell_type": "code",
   "execution_count": 37,
   "id": "29120e3d",
   "metadata": {},
   "outputs": [
    {
     "data": {
      "text/html": [
       "<div>\n",
       "<style scoped>\n",
       "    .dataframe tbody tr th:only-of-type {\n",
       "        vertical-align: middle;\n",
       "    }\n",
       "\n",
       "    .dataframe tbody tr th {\n",
       "        vertical-align: top;\n",
       "    }\n",
       "\n",
       "    .dataframe thead th {\n",
       "        text-align: right;\n",
       "    }\n",
       "</style>\n",
       "<table border=\"1\" class=\"dataframe\">\n",
       "  <thead>\n",
       "    <tr style=\"text-align: right;\">\n",
       "      <th></th>\n",
       "      <th>Algorithms</th>\n",
       "      <th>R2-Scores</th>\n",
       "    </tr>\n",
       "  </thead>\n",
       "  <tbody>\n",
       "    <tr>\n",
       "      <th>2</th>\n",
       "      <td>AdaBoost Regression</td>\n",
       "      <td>0.984315</td>\n",
       "    </tr>\n",
       "    <tr>\n",
       "      <th>4</th>\n",
       "      <td>GradientBoosting Regression</td>\n",
       "      <td>0.912089</td>\n",
       "    </tr>\n",
       "    <tr>\n",
       "      <th>0</th>\n",
       "      <td>Linear Regression</td>\n",
       "      <td>0.887830</td>\n",
       "    </tr>\n",
       "    <tr>\n",
       "      <th>1</th>\n",
       "      <td>Lasso Regression</td>\n",
       "      <td>0.865866</td>\n",
       "    </tr>\n",
       "    <tr>\n",
       "      <th>3</th>\n",
       "      <td>Ridge Regression</td>\n",
       "      <td>0.809440</td>\n",
       "    </tr>\n",
       "  </tbody>\n",
       "</table>\n",
       "</div>"
      ],
      "text/plain": [
       "                    Algorithms  R2-Scores\n",
       "2          AdaBoost Regression   0.984315\n",
       "4  GradientBoosting Regression   0.912089\n",
       "0            Linear Regression   0.887830\n",
       "1             Lasso Regression   0.865866\n",
       "3             Ridge Regression   0.809440"
      ]
     },
     "execution_count": 37,
     "metadata": {},
     "output_type": "execute_result"
    }
   ],
   "source": [
    "compare = pd.DataFrame({'Algorithms' : models , 'R2-Scores' : R2_Scores})\n",
    "compare.sort_values(by='R2-Scores' ,ascending=False)"
   ]
  },
  {
   "cell_type": "markdown",
   "id": "36ab9680",
   "metadata": {},
   "source": [
    "### Observations"
   ]
  },
  {
   "cell_type": "markdown",
   "id": "82990d53",
   "metadata": {},
   "source": [
    "As can be seen, the AdaBoost algorithm outperforms all others with a whopping 98% R2 score.\n",
    "\n",
    "Regularization techniques are those which help prevent overfitting or underfitting in ML models by adding a penalty factor. Lasso and ridge regression models have both performed worse than linear regression, indicating that regularization has not helped the algorithm much in the present case."
   ]
  },
  {
   "cell_type": "markdown",
   "id": "1d7b5a3c",
   "metadata": {},
   "source": [
    "#### Re-running the analysis with carat as the dependent variable:"
   ]
  },
  {
   "cell_type": "code",
   "execution_count": 46,
   "id": "9a333306",
   "metadata": {},
   "outputs": [],
   "source": [
    "X = df.drop(['carat'], axis = 1)\n",
    "y = df['carat']\n",
    "X_train, X_test, y_train, y_test = train_test_split(X, y, test_size = 0.2, random_state = 56)\n",
    "\n",
    "sc = StandardScaler()\n",
    "X_train = sc.fit_transform(X_train)\n",
    "X_test = sc.transform(X_test)\n",
    "\n",
    "R2_Scores = []"
   ]
  },
  {
   "cell_type": "code",
   "execution_count": 47,
   "id": "2b1fef38",
   "metadata": {},
   "outputs": [
    {
     "name": "stdout",
     "output_type": "stream",
     "text": [
      "\n",
      "Linear Regression\n",
      "Score : 0.9965\n",
      "[0.93572401 0.89871214 0.99553306 0.99657947 0.99644451]\n",
      "\n",
      "MSE    : 0.00 \n",
      "MAE    : 0.02 \n",
      "RMSE   : 0.03 \n",
      "R2     : 1.00 \n",
      "Linear Regression Coefficients: \n",
      "\n",
      "[-0.00069849  0.00091415  0.00497438 -0.00303482  0.02100403  0.00542718\n",
      "  0.03119206  0.44785472 -0.32153308 -0.07943426  0.39114438]\n",
      "                            OLS Regression Results                            \n",
      "==============================================================================\n",
      "Dep. Variable:                  carat   R-squared:                       0.994\n",
      "Model:                            OLS   Adj. R-squared:                  0.994\n",
      "Method:                 Least Squares   F-statistic:                 6.527e+05\n",
      "Date:                Wed, 05 Oct 2022   Prob (F-statistic):               0.00\n",
      "Time:                        16:49:57   Log-Likelihood:                 81528.\n",
      "No. Observations:               43136   AIC:                        -1.630e+05\n",
      "Df Residuals:                   43124   BIC:                        -1.629e+05\n",
      "Df Model:                          11                                         \n",
      "Covariance Type:            nonrobust                                         \n",
      "==============================================================================\n",
      "                 coef    std err          t      P>|t|      [0.025      0.975]\n",
      "------------------------------------------------------------------------------\n",
      "const          0.7969      0.000   4527.452      0.000       0.797       0.797\n",
      "x1            -0.0007      0.000     -3.578      0.000      -0.001      -0.000\n",
      "x2             0.0009      0.000      5.056      0.000       0.001       0.001\n",
      "x3             0.0050      0.000     25.835      0.000       0.005       0.005\n",
      "x4            -0.0030      0.000    -15.752      0.000      -0.003      -0.003\n",
      "x5             0.0210      0.000     97.826      0.000       0.021       0.021\n",
      "x6             0.0054      0.000     28.485      0.000       0.005       0.006\n",
      "x7             0.0312      0.001     62.180      0.000       0.030       0.032\n",
      "x8             0.4479      0.001    387.070      0.000       0.446       0.450\n",
      "x9            -0.3215      0.001   -281.734      0.000      -0.324      -0.319\n",
      "x10           -0.0794      0.001    -88.239      0.000      -0.081      -0.078\n",
      "x11            0.3911      0.001    367.712      0.000       0.389       0.393\n",
      "==============================================================================\n",
      "Omnibus:                    94758.441   Durbin-Watson:                   1.987\n",
      "Prob(Omnibus):                  0.000   Jarque-Bera (JB):      28248834113.160\n",
      "Skew:                          18.520   Prob(JB):                         0.00\n",
      "Kurtosis:                    3967.304   Cond. No.                         21.8\n",
      "==============================================================================\n",
      "\n",
      "Notes:\n",
      "[1] Standard Errors assume that the covariance matrix of the errors is correctly specified.\n"
     ]
    },
    {
     "name": "stderr",
     "output_type": "stream",
     "text": [
      "[Parallel(n_jobs=1)]: Using backend SequentialBackend with 1 concurrent workers.\n",
      "[Parallel(n_jobs=1)]: Done   5 out of   5 | elapsed:    0.0s finished\n"
     ]
    }
   ],
   "source": [
    "clf_lr = LinearRegression()\n",
    "clf_lr.fit(X_train, y_train)\n",
    "\n",
    "accuracies = cross_val_score(estimator = clf_lr, X = X_train, y = y_train, cv = 5, verbose = 1)\n",
    "\n",
    "y_pred = clf_lr.predict(X_test)\n",
    "\n",
    "print('')\n",
    "print('Linear Regression')\n",
    "print('Score : %.4f' % clf_lr.score(X_test, y_test))\n",
    "print(accuracies)\n",
    "\n",
    "mse = mean_squared_error(y_test, y_pred)\n",
    "mae = mean_absolute_error(y_test, y_pred)\n",
    "rmse = mean_squared_error(y_test, y_pred)**0.5\n",
    "r2 = r2_score(y_test, y_pred)\n",
    "\n",
    "print('')\n",
    "print('MSE    : %0.2f ' % mse)\n",
    "print('MAE    : %0.2f ' % mae)\n",
    "print('RMSE   : %0.2f ' % rmse)\n",
    "print('R2     : %0.2f ' % r2)\n",
    "\n",
    "print(\"Linear Regression Coefficients: \\n\")\n",
    "print(clf_lr.coef_)\n",
    "\n",
    "R2_Scores.append(r2)\n",
    "\n",
    "import statsmodels.api as sm\n",
    "\n",
    "x_train = X_train\n",
    "y_train_2 = y_train\n",
    "x_train_1 = sm.add_constant(x_train)\n",
    "model = sm.OLS(y_train_2, x_train_1)\n",
    "results = model.fit()\n",
    "print(results.summary())"
   ]
  },
  {
   "cell_type": "markdown",
   "id": "289c491e",
   "metadata": {},
   "source": [
    "As can be seen, a linear regression model for predicting the carat of the diamond from the rest of the variables gives an outstanding performance with an R2 score greater than 99%. This is logical since the carat of a diamond is a phycial characteristic and would be strongly dependent on the physical properties of the diamond which are all known."
   ]
  }
 ],
 "metadata": {
  "kernelspec": {
   "display_name": "Python 3 (ipykernel)",
   "language": "python",
   "name": "python3"
  },
  "language_info": {
   "codemirror_mode": {
    "name": "ipython",
    "version": 3
   },
   "file_extension": ".py",
   "mimetype": "text/x-python",
   "name": "python",
   "nbconvert_exporter": "python",
   "pygments_lexer": "ipython3",
   "version": "3.9.12"
  }
 },
 "nbformat": 4,
 "nbformat_minor": 5
}
